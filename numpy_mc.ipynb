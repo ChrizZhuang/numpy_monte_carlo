{
 "cells": [
  {
   "cell_type": "markdown",
   "metadata": {},
   "source": [
    "# Introduction of Numpy Arrays"
   ]
  },
  {
   "cell_type": "code",
   "execution_count": null,
   "metadata": {},
   "outputs": [],
   "source": [
    "import numpy as np\n",
    "import math"
   ]
  },
  {
   "cell_type": "markdown",
   "metadata": {},
   "source": [
    "## Review of list behavior"
   ]
  },
  {
   "cell_type": "code",
   "execution_count": null,
   "metadata": {},
   "outputs": [],
   "source": [
    "# create some coordinates\n",
    "\n",
    "first_coordinates = [[0, 0, 0], [0, 0, math.pow(2, 1/6)], [0, 0, 2 * math.pow(2, 1/6)], [math.pow(2, 1/6), 0, 0]]\n",
    "second_coordinate = first_coordinates[1]\n",
    "print(second_coordinate)"
   ]
  },
  {
   "cell_type": "code",
   "execution_count": null,
   "metadata": {},
   "outputs": [],
   "source": [
    "translation_vec = [0.1, -0.1, 0]\n",
    "\n",
    "print(second_coordinate)\n",
    "print(translation_vec)\n",
    "\n",
    "# translating second_coordinates by translating vector\n",
    "new_coordinates = []\n",
    "\n",
    "for i in range(len(second_coordinate)):\n",
    "    translated_coordinate = second_coordinate[i] + translation_vec[i]\n",
    "    new_coordinates.append(translated_coordinate)\n"
   ]
  },
  {
   "cell_type": "code",
   "execution_count": null,
   "metadata": {},
   "outputs": [],
   "source": [
    "expected_coordinates = [0.1, -0.1, math.pow(2, 1/6)]\n",
    "assert new_coordinates == expected_coordinates"
   ]
  },
  {
   "cell_type": "code",
   "execution_count": null,
   "metadata": {},
   "outputs": [],
   "source": [
    "# create numpy arraies from lists\n",
    "\n",
    "second_coordinate_np = np.array(second_coordinate)\n",
    "translation_vec_np = np.array(translation_vec)"
   ]
  },
  {
   "cell_type": "code",
   "execution_count": null,
   "metadata": {},
   "outputs": [],
   "source": [
    "print(type(second_coordinate))\n",
    "print(type(second_coordinate_np))"
   ]
  },
  {
   "cell_type": "code",
   "execution_count": null,
   "metadata": {},
   "outputs": [],
   "source": [
    "second_coordinate_np"
   ]
  },
  {
   "cell_type": "code",
   "execution_count": null,
   "metadata": {},
   "outputs": [],
   "source": [
    "second_coordinate_np[0]"
   ]
  },
  {
   "cell_type": "code",
   "execution_count": null,
   "metadata": {},
   "outputs": [],
   "source": [
    "print(type(second_coordinate_np[0]))"
   ]
  },
  {
   "cell_type": "code",
   "execution_count": null,
   "metadata": {},
   "outputs": [],
   "source": [
    "new_coordinate_np = second_coordinate_np + translation_vec_np\n",
    "print(new_coordinate_np)\n",
    "print(new_coordinates)"
   ]
  },
  {
   "cell_type": "code",
   "execution_count": null,
   "metadata": {},
   "outputs": [],
   "source": [
    "a1 = np.array([1, 3, 2])\n",
    "a2 = np.array([2, 3, 1])\n",
    "\n",
    "print(a1 + a2)\n",
    "print(a1 * a2)\n",
    "\n",
    "a3 = [1, 3, 2]\n",
    "a4 = [2, 3, 1]\n",
    "print(a3 + a4)\n",
    "#print(a3 * a4)"
   ]
  },
  {
   "cell_type": "markdown",
   "metadata": {},
   "source": [
    "## Array shape"
   ]
  },
  {
   "cell_type": "code",
   "execution_count": null,
   "metadata": {},
   "outputs": [],
   "source": [
    "second_coordinate_np.shape"
   ]
  },
  {
   "cell_type": "code",
   "execution_count": null,
   "metadata": {},
   "outputs": [],
   "source": [
    "coordinates_np = np.array(coordinates)\n",
    "print(coordinates_np)\n",
    "print(coordinates_np.shape)"
   ]
  },
  {
   "cell_type": "code",
   "execution_count": null,
   "metadata": {},
   "outputs": [],
   "source": [
    "# access information in the nested list\n",
    "atom_3 = coordinates[3]\n",
    "x_atom_3 = atom_3[0]\n",
    "print(x_atom_3)\n",
    "print('\\n')\n",
    "\n",
    "x_atom_3_ = coordinates[3][0]\n",
    "print(x_atom_3_)"
   ]
  },
  {
   "cell_type": "code",
   "execution_count": null,
   "metadata": {},
   "outputs": [],
   "source": [
    "# access information in the numpy array\n",
    "print(coordinates_np.shape)\n",
    "print(coordinates_np[3, 0])\n",
    "print(coordinates_np[3, 0:2])"
   ]
  },
  {
   "cell_type": "markdown",
   "metadata": {},
   "source": [
    "## Broadcasting"
   ]
  },
  {
   "cell_type": "code",
   "execution_count": null,
   "metadata": {},
   "outputs": [],
   "source": [
    "# translate all coordinates by lists and python standard library\n",
    "\n",
    "num_atoms = len(coordinates)\n",
    "\n",
    "new_coordinates = []\n",
    "\n",
    "for i in range(num_atoms):\n",
    "    \n",
    "    atom_coord = coordinates[i]\n",
    "    updated_coord = []\n",
    "    \n",
    "    for j in range(len(coordinates[0])):\n",
    "        \n",
    "        translated_coord = atom_coord[j] + translation_vec[j]\n",
    "        updated_coord.append(translated_coord)\n",
    "        \n",
    "    new_coordinates.append(updated_coord)  \n",
    "    \n",
    "print(new_coordinates)"
   ]
  },
  {
   "cell_type": "code",
   "execution_count": null,
   "metadata": {},
   "outputs": [],
   "source": [
    "new_coordinates_np = coordinates_np + translation_vec_np\n",
    "print(new_coordinates_np)"
   ]
  },
  {
   "cell_type": "code",
   "execution_count": null,
   "metadata": {},
   "outputs": [],
   "source": [
    "coordinates_np"
   ]
  },
  {
   "cell_type": "code",
   "execution_count": null,
   "metadata": {},
   "outputs": [],
   "source": [
    "translation_vec_np"
   ]
  },
  {
   "cell_type": "code",
   "execution_count": null,
   "metadata": {},
   "outputs": [],
   "source": [
    "new_coordinates_np = coordinates + translation_vec_np\n",
    "print(new_coordinates_np)\n",
    "print(type(new_coordinates_np))"
   ]
  },
  {
   "cell_type": "code",
   "execution_count": null,
   "metadata": {},
   "outputs": [],
   "source": [
    "new_coordinates_np > 0"
   ]
  },
  {
   "cell_type": "code",
   "execution_count": null,
   "metadata": {},
   "outputs": [],
   "source": [
    "new_coordinates_np[new_coordinates_np > 0]"
   ]
  },
  {
   "cell_type": "markdown",
   "metadata": {},
   "source": [
    "## Array Axes"
   ]
  },
  {
   "cell_type": "code",
   "execution_count": null,
   "metadata": {},
   "outputs": [],
   "source": [
    "print(coordinates_np.mean())"
   ]
  },
  {
   "cell_type": "code",
   "execution_count": null,
   "metadata": {},
   "outputs": [],
   "source": [
    "print(coordinates_np.shape)\n",
    "print(coordinates_np.mean(axis = 0))\n",
    "print(coordinates_np.mean(axis = 1))"
   ]
  },
  {
   "cell_type": "code",
   "execution_count": null,
   "metadata": {},
   "outputs": [],
   "source": [
    "coordinates_np"
   ]
  }
 ],
 "metadata": {
  "kernelspec": {
   "display_name": "Python 3",
   "language": "python",
   "name": "python3"
  },
  "language_info": {
   "codemirror_mode": {
    "name": "ipython",
    "version": 3
   },
   "file_extension": ".py",
   "mimetype": "text/x-python",
   "name": "python",
   "nbconvert_exporter": "python",
   "pygments_lexer": "ipython3",
   "version": "3.7.7"
  }
 },
 "nbformat": 4,
 "nbformat_minor": 4
}
